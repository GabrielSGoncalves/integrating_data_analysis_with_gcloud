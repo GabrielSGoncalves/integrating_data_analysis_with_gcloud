{
 "cells": [
  {
   "cell_type": "markdown",
   "id": "1b38da4a-a7f0-44a8-b9e1-389c9e9e8d69",
   "metadata": {},
   "source": [
    "<p style=\"margin-top: 22px; font-size:40px; text-align: left; font-weight: bold;  line-height: 100%;\">\n",
    "    Tutorial how to acess files on Google Desktop or Cloud Storage</p>\n",
    "\n",
    "**Objective**<br>\n",
    "Present functions for loading file from Google Cloud Services (Sheets, Drive and Cloud Storage)."
   ]
  },
  {
   "cell_type": "code",
   "execution_count": null,
   "id": "be4834df-862b-4bdb-a2c6-6e845a181351",
   "metadata": {
    "jp-MarkdownHeadingCollapsed": true,
    "tags": []
   },
   "outputs": [],
   "source": [
    "# Libraries to install\n",
    "!pip install --upgrade google-api-python-client google-auth-httplib2 google-auth-oauthlib\n",
    "!pip install gspread\n",
    "!pip install pandas\n",
    "!pip install PyDrive2\n",
    "!pip install pyarrow"
   ]
  },
  {
   "cell_type": "markdown",
   "id": "acc8ec81-8a01-47c2-9bc3-1d4cf7dbb36d",
   "metadata": {},
   "source": [
    "# Acessing publicly available files\n",
    "In order to access files publicly available in a Google Drive or Spreadsheets you can use the functions imported in the next cell."
   ]
  },
  {
   "cell_type": "code",
   "execution_count": 1,
   "id": "7f8eade6-456b-4db8-ad0b-bb67d82f2006",
   "metadata": {
    "tags": []
   },
   "outputs": [],
   "source": [
    "from gcloud_data_analysis_functions import (\n",
    "    read_public_sheets,\n",
    "    read_public_file_from_gdrive,\n",
    ")"
   ]
  },
  {
   "cell_type": "markdown",
   "id": "9f7458f2-fdf6-40f6-987a-c7e8d739d693",
   "metadata": {
    "tags": []
   },
   "source": [
    "## Google Sheets (Public files)\n",
    "To load a sheet from a public Google Spreadsheet you need to generate a download URL.\n",
    "1. Open your Spreadsheet file;\n",
    "2. Click in File > Share > Publish to Web\n",
    "3. On the Link Option select the desired sheet;\n",
    "4. On the file type select Comma-separated value (.csv);\n",
    "5. Copy the newly created link below."
   ]
  },
  {
   "cell_type": "code",
   "execution_count": 2,
   "id": "f0a18b51-c8b4-4d79-8da9-ffcc5e06dfcb",
   "metadata": {},
   "outputs": [
    {
     "name": "stdout",
     "output_type": "stream",
     "text": [
      "Read a publicly available Google Sheets file as a Pandas Dataframe.\n",
      "\n",
      "    Parameters\n",
      "    ----------\n",
      "    file_url : str\n",
      "        URL adress to the spreadsheet CSV file.\n",
      "\n",
      "    Returns\n",
      "    -------\n",
      "    pd.DataFrame\n",
      "        Dataframe loaded from the CSV adress.\n",
      "\n",
      "    \n"
     ]
    }
   ],
   "source": [
    "print(read_public_sheets.__doc__)"
   ]
  },
  {
   "cell_type": "code",
   "execution_count": null,
   "id": "aad08b10-48ab-4ef9-a79b-81bda067386b",
   "metadata": {},
   "outputs": [],
   "source": [
    "df_sheet_public = read_public_sheets(\n",
    "    \"<Google Sheets URL link>\"\n",
    ")\n",
    "df_sheet_public"
   ]
  },
  {
   "cell_type": "markdown",
   "id": "28883ad4-99b5-4f54-9104-8511d01be077",
   "metadata": {
    "tags": []
   },
   "source": [
    "## Google Drive (Public files)\n",
    "To make a file available at Google Drive:\n",
    "1. Right Click the file and choose \"Share\";\n",
    "2. On the \"Get link\" option click on \"Change to anyone with the link\";\n",
    "3. Copy the generated link."
   ]
  },
  {
   "cell_type": "code",
   "execution_count": 5,
   "id": "08705902-6f35-47a0-b92a-91d1c3e1958c",
   "metadata": {},
   "outputs": [
    {
     "name": "stdout",
     "output_type": "stream",
     "text": [
      "Read public files stored in a Google Drive.\n",
      "\n",
      "    Parameters\n",
      "    ----------\n",
      "    file_url : str\n",
      "        Google Drive file URL.\n",
      "\n",
      "    file_format : str\n",
      "        Type of file format: 'csv', 'xlsx' or 'json'.\n",
      "\n",
      "    Returns\n",
      "    -------\n",
      "    Union[pd.DataFrame, Dict]\n",
      "        Dataframe (for 'csv' or 'xlsx') or Dictionary ('json') from Google\n",
      "        Drive file.\n",
      "\n",
      "    \n"
     ]
    }
   ],
   "source": [
    "print(read_public_file_from_gdrive.__doc__)"
   ]
  },
  {
   "cell_type": "code",
   "execution_count": 7,
   "id": "3cc2b65e-0481-4f35-983b-9b37b0a81ed5",
   "metadata": {},
   "outputs": [],
   "source": [
    "file_url_xslx = \"<Google Drive xlsx file link>\""
   ]
  },
  {
   "cell_type": "code",
   "execution_count": 8,
   "id": "4ebf130b-b52e-45ab-bb8c-68f27201052d",
   "metadata": {},
   "outputs": [
    {
     "data": {
      "text/html": [
       "<div>\n",
       "<style scoped>\n",
       "    .dataframe tbody tr th:only-of-type {\n",
       "        vertical-align: middle;\n",
       "    }\n",
       "\n",
       "    .dataframe tbody tr th {\n",
       "        vertical-align: top;\n",
       "    }\n",
       "\n",
       "    .dataframe thead th {\n",
       "        text-align: right;\n",
       "    }\n",
       "</style>\n",
       "<table border=\"1\" class=\"dataframe\">\n",
       "  <thead>\n",
       "    <tr style=\"text-align: right;\">\n",
       "      <th></th>\n",
       "      <th>RM</th>\n",
       "      <th>LSTAT</th>\n",
       "      <th>PTRATIO</th>\n",
       "      <th>MEDV</th>\n",
       "    </tr>\n",
       "  </thead>\n",
       "  <tbody>\n",
       "    <tr>\n",
       "      <th>0</th>\n",
       "      <td>6575.00</td>\n",
       "      <td>4.98</td>\n",
       "      <td>15.3</td>\n",
       "      <td>504000.0</td>\n",
       "    </tr>\n",
       "    <tr>\n",
       "      <th>1</th>\n",
       "      <td>6421.00</td>\n",
       "      <td>9.14</td>\n",
       "      <td>17.8</td>\n",
       "      <td>453600.0</td>\n",
       "    </tr>\n",
       "    <tr>\n",
       "      <th>2</th>\n",
       "      <td>7185.00</td>\n",
       "      <td>4.03</td>\n",
       "      <td>17.8</td>\n",
       "      <td>728700.0</td>\n",
       "    </tr>\n",
       "    <tr>\n",
       "      <th>3</th>\n",
       "      <td>6998.00</td>\n",
       "      <td>2.94</td>\n",
       "      <td>18.7</td>\n",
       "      <td>701400.0</td>\n",
       "    </tr>\n",
       "    <tr>\n",
       "      <th>4</th>\n",
       "      <td>7147.00</td>\n",
       "      <td>5.33</td>\n",
       "      <td>18.7</td>\n",
       "      <td>760200.0</td>\n",
       "    </tr>\n",
       "    <tr>\n",
       "      <th>...</th>\n",
       "      <td>...</td>\n",
       "      <td>...</td>\n",
       "      <td>...</td>\n",
       "      <td>...</td>\n",
       "    </tr>\n",
       "    <tr>\n",
       "      <th>484</th>\n",
       "      <td>6593.00</td>\n",
       "      <td>9.67</td>\n",
       "      <td>21.0</td>\n",
       "      <td>470400.0</td>\n",
       "    </tr>\n",
       "    <tr>\n",
       "      <th>485</th>\n",
       "      <td>6.12</td>\n",
       "      <td>9.08</td>\n",
       "      <td>21.0</td>\n",
       "      <td>432600.0</td>\n",
       "    </tr>\n",
       "    <tr>\n",
       "      <th>486</th>\n",
       "      <td>6976.00</td>\n",
       "      <td>5.64</td>\n",
       "      <td>21.0</td>\n",
       "      <td>501900.0</td>\n",
       "    </tr>\n",
       "    <tr>\n",
       "      <th>487</th>\n",
       "      <td>6794.00</td>\n",
       "      <td>6.48</td>\n",
       "      <td>21.0</td>\n",
       "      <td>462000.0</td>\n",
       "    </tr>\n",
       "    <tr>\n",
       "      <th>488</th>\n",
       "      <td>6.03</td>\n",
       "      <td>7.88</td>\n",
       "      <td>21.0</td>\n",
       "      <td>249900.0</td>\n",
       "    </tr>\n",
       "  </tbody>\n",
       "</table>\n",
       "<p>489 rows × 4 columns</p>\n",
       "</div>"
      ],
      "text/plain": [
       "          RM  LSTAT  PTRATIO      MEDV\n",
       "0    6575.00   4.98     15.3  504000.0\n",
       "1    6421.00   9.14     17.8  453600.0\n",
       "2    7185.00   4.03     17.8  728700.0\n",
       "3    6998.00   2.94     18.7  701400.0\n",
       "4    7147.00   5.33     18.7  760200.0\n",
       "..       ...    ...      ...       ...\n",
       "484  6593.00   9.67     21.0  470400.0\n",
       "485     6.12   9.08     21.0  432600.0\n",
       "486  6976.00   5.64     21.0  501900.0\n",
       "487  6794.00   6.48     21.0  462000.0\n",
       "488     6.03   7.88     21.0  249900.0\n",
       "\n",
       "[489 rows x 4 columns]"
      ]
     },
     "execution_count": 8,
     "metadata": {},
     "output_type": "execute_result"
    }
   ],
   "source": [
    "read_public_file_from_gdrive(\n",
    "    file_url_xslx,\n",
    "    \"xlsx\",\n",
    ")"
   ]
  },
  {
   "cell_type": "code",
   "execution_count": 9,
   "id": "229b5f72-c108-460e-aa24-3c973eca59b8",
   "metadata": {},
   "outputs": [],
   "source": [
    "file_url_csv = (\n",
    "    \"<Google Drive csv file link>\"\n",
    ")"
   ]
  },
  {
   "cell_type": "code",
   "execution_count": 10,
   "id": "49b19aa9-04f9-4933-9cd4-4ea6785d2657",
   "metadata": {},
   "outputs": [
    {
     "data": {
      "text/html": [
       "<div>\n",
       "<style scoped>\n",
       "    .dataframe tbody tr th:only-of-type {\n",
       "        vertical-align: middle;\n",
       "    }\n",
       "\n",
       "    .dataframe tbody tr th {\n",
       "        vertical-align: top;\n",
       "    }\n",
       "\n",
       "    .dataframe thead th {\n",
       "        text-align: right;\n",
       "    }\n",
       "</style>\n",
       "<table border=\"1\" class=\"dataframe\">\n",
       "  <thead>\n",
       "    <tr style=\"text-align: right;\">\n",
       "      <th></th>\n",
       "      <th>RM</th>\n",
       "      <th>LSTAT</th>\n",
       "      <th>PTRATIO</th>\n",
       "      <th>MEDV</th>\n",
       "    </tr>\n",
       "  </thead>\n",
       "  <tbody>\n",
       "    <tr>\n",
       "      <th>0</th>\n",
       "      <td>6.575</td>\n",
       "      <td>4.98</td>\n",
       "      <td>15.3</td>\n",
       "      <td>504000.0</td>\n",
       "    </tr>\n",
       "    <tr>\n",
       "      <th>1</th>\n",
       "      <td>6.421</td>\n",
       "      <td>9.14</td>\n",
       "      <td>17.8</td>\n",
       "      <td>453600.0</td>\n",
       "    </tr>\n",
       "    <tr>\n",
       "      <th>2</th>\n",
       "      <td>7.185</td>\n",
       "      <td>4.03</td>\n",
       "      <td>17.8</td>\n",
       "      <td>728700.0</td>\n",
       "    </tr>\n",
       "    <tr>\n",
       "      <th>3</th>\n",
       "      <td>6.998</td>\n",
       "      <td>2.94</td>\n",
       "      <td>18.7</td>\n",
       "      <td>701400.0</td>\n",
       "    </tr>\n",
       "    <tr>\n",
       "      <th>4</th>\n",
       "      <td>7.147</td>\n",
       "      <td>5.33</td>\n",
       "      <td>18.7</td>\n",
       "      <td>760200.0</td>\n",
       "    </tr>\n",
       "    <tr>\n",
       "      <th>...</th>\n",
       "      <td>...</td>\n",
       "      <td>...</td>\n",
       "      <td>...</td>\n",
       "      <td>...</td>\n",
       "    </tr>\n",
       "    <tr>\n",
       "      <th>484</th>\n",
       "      <td>6.593</td>\n",
       "      <td>9.67</td>\n",
       "      <td>21.0</td>\n",
       "      <td>470400.0</td>\n",
       "    </tr>\n",
       "    <tr>\n",
       "      <th>485</th>\n",
       "      <td>6.120</td>\n",
       "      <td>9.08</td>\n",
       "      <td>21.0</td>\n",
       "      <td>432600.0</td>\n",
       "    </tr>\n",
       "    <tr>\n",
       "      <th>486</th>\n",
       "      <td>6.976</td>\n",
       "      <td>5.64</td>\n",
       "      <td>21.0</td>\n",
       "      <td>501900.0</td>\n",
       "    </tr>\n",
       "    <tr>\n",
       "      <th>487</th>\n",
       "      <td>6.794</td>\n",
       "      <td>6.48</td>\n",
       "      <td>21.0</td>\n",
       "      <td>462000.0</td>\n",
       "    </tr>\n",
       "    <tr>\n",
       "      <th>488</th>\n",
       "      <td>6.030</td>\n",
       "      <td>7.88</td>\n",
       "      <td>21.0</td>\n",
       "      <td>249900.0</td>\n",
       "    </tr>\n",
       "  </tbody>\n",
       "</table>\n",
       "<p>489 rows × 4 columns</p>\n",
       "</div>"
      ],
      "text/plain": [
       "        RM  LSTAT  PTRATIO      MEDV\n",
       "0    6.575   4.98     15.3  504000.0\n",
       "1    6.421   9.14     17.8  453600.0\n",
       "2    7.185   4.03     17.8  728700.0\n",
       "3    6.998   2.94     18.7  701400.0\n",
       "4    7.147   5.33     18.7  760200.0\n",
       "..     ...    ...      ...       ...\n",
       "484  6.593   9.67     21.0  470400.0\n",
       "485  6.120   9.08     21.0  432600.0\n",
       "486  6.976   5.64     21.0  501900.0\n",
       "487  6.794   6.48     21.0  462000.0\n",
       "488  6.030   7.88     21.0  249900.0\n",
       "\n",
       "[489 rows x 4 columns]"
      ]
     },
     "execution_count": 10,
     "metadata": {},
     "output_type": "execute_result"
    }
   ],
   "source": [
    "read_public_file_from_gdrive(\n",
    "    file_url_csv,\n",
    "    \"csv\",\n",
    ")"
   ]
  },
  {
   "cell_type": "code",
   "execution_count": 11,
   "id": "b94ad29f-f84c-412f-ba0f-b7cdd130afb4",
   "metadata": {},
   "outputs": [],
   "source": [
    "file_url_json = (\n",
    "    \"<Google Drive json file link>\"\n",
    ")"
   ]
  },
  {
   "cell_type": "code",
   "execution_count": 12,
   "id": "57a22ee8-88a6-4b38-b51d-d15c5b93d1f8",
   "metadata": {},
   "outputs": [
    {
     "data": {
      "text/plain": [
       "{'1': 'b', '2': 'c'}"
      ]
     },
     "execution_count": 12,
     "metadata": {},
     "output_type": "execute_result"
    }
   ],
   "source": [
    "read_public_file_from_gdrive(\n",
    "    file_url_json,\n",
    "    \"json\",\n",
    ")"
   ]
  },
  {
   "cell_type": "markdown",
   "id": "bd16ca75-ad61-4a09-a997-7aaa107feedb",
   "metadata": {
    "tags": []
   },
   "source": [
    "# Acessing private files"
   ]
  },
  {
   "cell_type": "code",
   "execution_count": 13,
   "id": "8ba8f0ac-0d0f-4ee2-a1bc-11cfbc97f992",
   "metadata": {
    "tags": []
   },
   "outputs": [],
   "source": [
    "from gcloud_data_analysis_functions import (\n",
    "    read_private_sheets,\n",
    "    read_file_from_gcloud_storage,\n",
    ")"
   ]
  },
  {
   "cell_type": "markdown",
   "id": "767b1796-d55f-4a67-87c8-efd6ac885733",
   "metadata": {},
   "source": [
    "## Google Sheets (Private files)\n",
    "To access private files you need to [generate a Google Cloud Credentials](https://docs.gspread.org/en/latest/oauth2.html) in order to connect to the services described below."
   ]
  },
  {
   "cell_type": "code",
   "execution_count": 15,
   "id": "5614840b-e59e-4ecf-8dfa-4cca62c74976",
   "metadata": {},
   "outputs": [
    {
     "name": "stdout",
     "output_type": "stream",
     "text": [
      "Read a private available Google Sheets as a Pandas Dataframe.\n",
      "\n",
      "    Parameters\n",
      "    ----------\n",
      "    credentials_json : str\n",
      "        Path to JSON file with GCloud Credentials.\n",
      "\n",
      "    sheet_url : str\n",
      "        Spreadheet URL adress.\n",
      "\n",
      "    worksheet : int (default=0)\n",
      "        Index or name for the target worksheet.\n",
      "\n",
      "    Returns\n",
      "    -------\n",
      "    pd.DataFrame\n",
      "        Dataframe loaded from the spreadsheet.\n",
      "\n",
      "    \n"
     ]
    }
   ],
   "source": [
    "print(read_private_sheets.__doc__)"
   ]
  },
  {
   "cell_type": "code",
   "execution_count": 14,
   "id": "d4ba89e5-f4a2-432f-9535-1d1524a4bb7a",
   "metadata": {},
   "outputs": [],
   "source": [
    "# Define the path to your Google Cloud Credentials\n",
    "gcloud_credentials = \"<Path to Google Cloud Credentials json>\""
   ]
  },
  {
   "cell_type": "code",
   "execution_count": 16,
   "id": "04251c8c-fecf-43cc-b7d2-6681832c0660",
   "metadata": {},
   "outputs": [],
   "source": [
    "sheet_url = \"<Google Sheet link>\""
   ]
  },
  {
   "cell_type": "code",
   "execution_count": 17,
   "id": "24bb2455-ee09-4085-b1cd-4ccc498c31a2",
   "metadata": {},
   "outputs": [
    {
     "data": {
      "text/html": [
       "<div>\n",
       "<style scoped>\n",
       "    .dataframe tbody tr th:only-of-type {\n",
       "        vertical-align: middle;\n",
       "    }\n",
       "\n",
       "    .dataframe tbody tr th {\n",
       "        vertical-align: top;\n",
       "    }\n",
       "\n",
       "    .dataframe thead th {\n",
       "        text-align: right;\n",
       "    }\n",
       "</style>\n",
       "<table border=\"1\" class=\"dataframe\">\n",
       "  <thead>\n",
       "    <tr style=\"text-align: right;\">\n",
       "      <th></th>\n",
       "      <th>RM</th>\n",
       "      <th>LSTAT</th>\n",
       "      <th>PTRATIO</th>\n",
       "      <th>MEDV</th>\n",
       "    </tr>\n",
       "  </thead>\n",
       "  <tbody>\n",
       "    <tr>\n",
       "      <th>0</th>\n",
       "      <td>6.575</td>\n",
       "      <td>4.98</td>\n",
       "      <td>15.3</td>\n",
       "      <td>504000</td>\n",
       "    </tr>\n",
       "    <tr>\n",
       "      <th>1</th>\n",
       "      <td>6.421</td>\n",
       "      <td>9.14</td>\n",
       "      <td>17.8</td>\n",
       "      <td>453600</td>\n",
       "    </tr>\n",
       "    <tr>\n",
       "      <th>2</th>\n",
       "      <td>7.185</td>\n",
       "      <td>4.03</td>\n",
       "      <td>17.8</td>\n",
       "      <td>728700</td>\n",
       "    </tr>\n",
       "    <tr>\n",
       "      <th>3</th>\n",
       "      <td>6.998</td>\n",
       "      <td>2.94</td>\n",
       "      <td>18.7</td>\n",
       "      <td>701400</td>\n",
       "    </tr>\n",
       "    <tr>\n",
       "      <th>4</th>\n",
       "      <td>7.147</td>\n",
       "      <td>5.33</td>\n",
       "      <td>18.7</td>\n",
       "      <td>760200</td>\n",
       "    </tr>\n",
       "    <tr>\n",
       "      <th>...</th>\n",
       "      <td>...</td>\n",
       "      <td>...</td>\n",
       "      <td>...</td>\n",
       "      <td>...</td>\n",
       "    </tr>\n",
       "    <tr>\n",
       "      <th>484</th>\n",
       "      <td>6.593</td>\n",
       "      <td>9.67</td>\n",
       "      <td>21</td>\n",
       "      <td>470400</td>\n",
       "    </tr>\n",
       "    <tr>\n",
       "      <th>485</th>\n",
       "      <td>6.12</td>\n",
       "      <td>9.08</td>\n",
       "      <td>21</td>\n",
       "      <td>432600</td>\n",
       "    </tr>\n",
       "    <tr>\n",
       "      <th>486</th>\n",
       "      <td>6.976</td>\n",
       "      <td>5.64</td>\n",
       "      <td>21</td>\n",
       "      <td>501900</td>\n",
       "    </tr>\n",
       "    <tr>\n",
       "      <th>487</th>\n",
       "      <td>6.794</td>\n",
       "      <td>6.48</td>\n",
       "      <td>21</td>\n",
       "      <td>462000</td>\n",
       "    </tr>\n",
       "    <tr>\n",
       "      <th>488</th>\n",
       "      <td>6.03</td>\n",
       "      <td>7.88</td>\n",
       "      <td>21</td>\n",
       "      <td>249900</td>\n",
       "    </tr>\n",
       "  </tbody>\n",
       "</table>\n",
       "<p>489 rows × 4 columns</p>\n",
       "</div>"
      ],
      "text/plain": [
       "        RM LSTAT PTRATIO    MEDV\n",
       "0    6.575  4.98    15.3  504000\n",
       "1    6.421  9.14    17.8  453600\n",
       "2    7.185  4.03    17.8  728700\n",
       "3    6.998  2.94    18.7  701400\n",
       "4    7.147  5.33    18.7  760200\n",
       "..     ...   ...     ...     ...\n",
       "484  6.593  9.67      21  470400\n",
       "485   6.12  9.08      21  432600\n",
       "486  6.976  5.64      21  501900\n",
       "487  6.794  6.48      21  462000\n",
       "488   6.03  7.88      21  249900\n",
       "\n",
       "[489 rows x 4 columns]"
      ]
     },
     "execution_count": 17,
     "metadata": {},
     "output_type": "execute_result"
    }
   ],
   "source": [
    "read_private_sheets(gcloud_credentials, sheet_url, 0)"
   ]
  },
  {
   "cell_type": "markdown",
   "id": "c8f7712f-eb0f-4ac2-a560-6a1b04cb5afd",
   "metadata": {},
   "source": [
    "## Google Drive (Private files)\n",
    "To generate the credentials needed to access private files on Google Drive, please follow the steps described in [Pydrive2 documentation](https://docs.iterative.ai/PyDrive2/quickstart/)."
   ]
  },
  {
   "cell_type": "code",
   "execution_count": 13,
   "id": "9a6d8ee8-0fd3-48a0-9964-d9e9fcc3eb8f",
   "metadata": {},
   "outputs": [],
   "source": [
    "from pydrive2.auth import GoogleAuth\n",
    "from gcloud_data_analysis_functions import read_private_file_from_gdrive, read_file_from_gcloud_storage"
   ]
  },
  {
   "cell_type": "code",
   "execution_count": null,
   "id": "a6d772d3-f1ae-4214-9294-dd9bd4e630a0",
   "metadata": {},
   "outputs": [],
   "source": [
    "gauth = GoogleAuth()\n",
    "gauth.LocalWebserverAuth()"
   ]
  },
  {
   "cell_type": "code",
   "execution_count": 8,
   "id": "d9075f8e-a000-44d8-baf5-ecbcd0c692f0",
   "metadata": {},
   "outputs": [],
   "source": [
    "file_url_csv = \"<Google Drive csv link>\"\n",
    "file_url_json = \"<Google Drive json link>\"\n",
    "file_url_xlsx = \"<Google Drive xlsx link>\"\n",
    "file_url_parquet = \"<Google Drive parquet link>\""
   ]
  },
  {
   "cell_type": "code",
   "execution_count": null,
   "id": "e428212e-872d-4ee4-b3a0-f5ef66a59d50",
   "metadata": {},
   "outputs": [],
   "source": [
    "read_private_file_from_gdrive(file_url_json, \"json\", gauth)"
   ]
  },
  {
   "cell_type": "code",
   "execution_count": null,
   "id": "be1b84cb-c3bc-4cb5-bb3f-a56fa27ca372",
   "metadata": {},
   "outputs": [],
   "source": [
    "read_private_file_from_gdrive(file_url_csv, \"csv\", gauth)"
   ]
  },
  {
   "cell_type": "code",
   "execution_count": null,
   "id": "2f45fc65-9275-42c5-af38-b321640d0b63",
   "metadata": {},
   "outputs": [],
   "source": [
    "read_private_file_from_gdrive(file_url_xlsx, \"xlsx\", gauth)"
   ]
  },
  {
   "cell_type": "code",
   "execution_count": null,
   "id": "b1972654-986e-44e4-8efa-041589c756fc",
   "metadata": {},
   "outputs": [],
   "source": [
    "read_private_file_from_gdrive(file_url_parquet, \"parquet\", gauth)"
   ]
  },
  {
   "cell_type": "markdown",
   "id": "0574710e-1dd2-4861-88fd-c3a88ab5594c",
   "metadata": {
    "tags": []
   },
   "source": [
    "## Google Cloud Storage"
   ]
  },
  {
   "cell_type": "markdown",
   "id": "efbf9f02-01ed-4cb2-af23-38a3177185a8",
   "metadata": {},
   "source": [
    "To access files stored in Google Cloud Storage you need to [generate a json file with your credentials](https://developers.google.com/identity/protocols/oauth2?hl=en). "
   ]
  },
  {
   "cell_type": "code",
   "execution_count": 14,
   "id": "79699681-c694-4954-8d8b-d0e5661c303b",
   "metadata": {},
   "outputs": [
    {
     "name": "stdout",
     "output_type": "stream",
     "text": [
      "Read file from Google Cloud Storage into a specific Python object.\n",
      "\n",
      "    Parameters\n",
      "    ----------\n",
      "    file_name : str\n",
      "        String with the name of the target file.\n",
      "\n",
      "    file_format : str\n",
      "        File format can be 'csv', 'xlsx', 'parquet', 'json' or 'txt'.\n",
      "\n",
      "    gcp_bucket : str\n",
      "        String with bucket name.\n",
      "\n",
      "    gcp_project : str (default=\"jeitto-datascience\")\n",
      "        String with the name of the project in GCP.\n",
      "\n",
      "    gcp_credentials_file : str\n",
      "        Dictionary with GCP credentials.\n",
      "\n",
      "    Returns\n",
      "    -------\n",
      "    Union[pd.DataFrame, Dict, str].\n",
      "        The specified object generate from target file.\n",
      "\n",
      "    \n"
     ]
    }
   ],
   "source": [
    "print(read_file_from_gcloud_storage.__doc__)"
   ]
  },
  {
   "cell_type": "code",
   "execution_count": null,
   "id": "7bed93f5-f4a7-4b14-b18f-50f7ec0fc729",
   "metadata": {},
   "outputs": [],
   "source": [
    "read_file_from_gcloud_storage(\n",
    "    \"<File name>\",\n",
    "    \"<File format>\",\n",
    "    \"<Bucket name>\",\n",
    "    \"<Project Name>\",\n",
    "    \"<Path to GCloud Credentials>\",\n",
    ")"
   ]
  }
 ],
 "metadata": {
  "kernelspec": {
   "display_name": "analytics",
   "language": "python",
   "name": "analytics"
  },
  "language_info": {
   "codemirror_mode": {
    "name": "ipython",
    "version": 3
   },
   "file_extension": ".py",
   "mimetype": "text/x-python",
   "name": "python",
   "nbconvert_exporter": "python",
   "pygments_lexer": "ipython3",
   "version": "3.8.11"
  },
  "toc-autonumbering": true
 },
 "nbformat": 4,
 "nbformat_minor": 5
}
