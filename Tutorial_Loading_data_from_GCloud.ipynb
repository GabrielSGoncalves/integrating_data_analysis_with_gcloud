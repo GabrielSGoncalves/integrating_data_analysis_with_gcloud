{
 "cells": [
  {
   "cell_type": "markdown",
   "id": "1b38da4a-a7f0-44a8-b9e1-389c9e9e8d69",
   "metadata": {},
   "source": [
    "<p style=\"margin-top: 22px; font-size:40px; text-align: left; font-weight: bold;  line-height: 100%;\">\n",
    "    Tutorial how to acess files on Google Desktop or Cloud Storage</p>\n",
    "\n",
    "**Objective**<br>\n",
    "Present functions for loading file from Google Cloud Services (Sheets, Drive and Cloud Storage)."
   ]
  },
  {
   "cell_type": "code",
   "execution_count": null,
   "id": "be4834df-862b-4bdb-a2c6-6e845a181351",
   "metadata": {
    "jp-MarkdownHeadingCollapsed": true,
    "tags": []
   },
   "outputs": [],
   "source": [
    "# Libraries to install\n",
    "!pip install --upgrade google-api-python-client google-auth-httplib2 google-auth-oauthlib\n",
    "!pip install gspread\n",
    "!pip install pandas\n",
    "!pip install PyDrive2\n",
    "!pip install pyarrow"
   ]
  },
  {
   "cell_type": "markdown",
   "id": "acc8ec81-8a01-47c2-9bc3-1d4cf7dbb36d",
   "metadata": {},
   "source": [
    "# Acessing publicly available files\n",
    "In order to access files publicly available in a Google Drive or Spreadsheets you can use the functions imported in the next cell."
   ]
  },
  {
   "cell_type": "code",
   "execution_count": null,
   "id": "7f8eade6-456b-4db8-ad0b-bb67d82f2006",
   "metadata": {
    "tags": []
   },
   "outputs": [],
   "source": [
    "from gcloud_data_analysis_functions import (\n",
    "    read_public_sheets,\n",
    "    read_public_file_from_gdrive,\n",
    ")"
   ]
  },
  {
   "cell_type": "markdown",
   "id": "9f7458f2-fdf6-40f6-987a-c7e8d739d693",
   "metadata": {
    "tags": []
   },
   "source": [
    "## Google Sheets (Public files)\n",
    "To load a sheet from a public Google Spreadsheet you need to generate a download URL.\n",
    "1. Open your Spreadsheet file;\n",
    "2. Click in File > Share > Publish to Web\n",
    "3. On the Link Option select the desired sheet;\n",
    "4. On the file type select Comma-separated value (.csv);\n",
    "5. Copy the newly created link below."
   ]
  },
  {
   "cell_type": "code",
   "execution_count": null,
   "id": "f0a18b51-c8b4-4d79-8da9-ffcc5e06dfcb",
   "metadata": {},
   "outputs": [],
   "source": [
    "print(read_public_sheets.__doc__)"
   ]
  },
  {
   "cell_type": "code",
   "execution_count": null,
   "id": "aad08b10-48ab-4ef9-a79b-81bda067386b",
   "metadata": {},
   "outputs": [],
   "source": [
    "df_sheet_public = read_public_sheets(\n",
    "    \"<Google Sheets URL link>\"\n",
    ")\n",
    "df_sheet_public"
   ]
  },
  {
   "cell_type": "markdown",
   "id": "28883ad4-99b5-4f54-9104-8511d01be077",
   "metadata": {
    "tags": []
   },
   "source": [
    "## Google Drive (Public files)\n",
    "To make a file available at Google Drive:\n",
    "1. Right Click the file and choose \"Share\";\n",
    "2. On the \"Get link\" option click on \"Change to anyone with the link\";\n",
    "3. Copy the generated link."
   ]
  },
  {
   "cell_type": "code",
   "execution_count": null,
   "id": "08705902-6f35-47a0-b92a-91d1c3e1958c",
   "metadata": {},
   "outputs": [],
   "source": [
    "print(read_public_file_from_gdrive.__doc__)"
   ]
  },
  {
   "cell_type": "code",
   "execution_count": null,
   "id": "3cc2b65e-0481-4f35-983b-9b37b0a81ed5",
   "metadata": {},
   "outputs": [],
   "source": [
    "file_url_xslx = \"<Google Drive xlsx file link>\""
   ]
  },
  {
   "cell_type": "code",
   "execution_count": null,
   "id": "4ebf130b-b52e-45ab-bb8c-68f27201052d",
   "metadata": {},
   "outputs": [],
   "source": [
    "read_public_file_from_gdrive(\n",
    "    file_url_xslx,\n",
    "    \"xlsx\",\n",
    ")"
   ]
  },
  {
   "cell_type": "code",
   "execution_count": null,
   "id": "229b5f72-c108-460e-aa24-3c973eca59b8",
   "metadata": {},
   "outputs": [],
   "source": [
    "file_url_csv = (\n",
    "    \"<Google Drive csv file link>\"\n",
    ")"
   ]
  },
  {
   "cell_type": "code",
   "execution_count": null,
   "id": "49b19aa9-04f9-4933-9cd4-4ea6785d2657",
   "metadata": {},
   "outputs": [],
   "source": [
    "read_public_file_from_gdrive(\n",
    "    file_url_csv,\n",
    "    \"csv\",\n",
    ")"
   ]
  },
  {
   "cell_type": "code",
   "execution_count": null,
   "id": "b94ad29f-f84c-412f-ba0f-b7cdd130afb4",
   "metadata": {},
   "outputs": [],
   "source": [
    "file_url_json = (\n",
    "    \"<Google Drive json file link>\"\n",
    ")"
   ]
  },
  {
   "cell_type": "code",
   "execution_count": null,
   "id": "57a22ee8-88a6-4b38-b51d-d15c5b93d1f8",
   "metadata": {},
   "outputs": [],
   "source": [
    "read_public_file_from_gdrive(\n",
    "    file_url_json,\n",
    "    \"json\",\n",
    ")"
   ]
  },
  {
   "cell_type": "markdown",
   "id": "bd16ca75-ad61-4a09-a997-7aaa107feedb",
   "metadata": {
    "tags": []
   },
   "source": [
    "# Acessing private files"
   ]
  },
  {
   "cell_type": "code",
   "execution_count": null,
   "id": "8ba8f0ac-0d0f-4ee2-a1bc-11cfbc97f992",
   "metadata": {
    "tags": []
   },
   "outputs": [],
   "source": [
    "from gcloud_data_analysis_functions import (\n",
    "    read_private_sheets,\n",
    "    read_file_from_gcloud_storage,\n",
    ")"
   ]
  },
  {
   "cell_type": "markdown",
   "id": "767b1796-d55f-4a67-87c8-efd6ac885733",
   "metadata": {},
   "source": [
    "## Google Sheets (Private files)\n",
    "To access private files you need to [generate a Google Cloud Credentials](https://docs.gspread.org/en/latest/oauth2.html) in order to connect to the services described below."
   ]
  },
  {
   "cell_type": "code",
   "execution_count": null,
   "id": "5614840b-e59e-4ecf-8dfa-4cca62c74976",
   "metadata": {},
   "outputs": [],
   "source": [
    "print(read_private_sheets.__doc__)"
   ]
  },
  {
   "cell_type": "code",
   "execution_count": null,
   "id": "d4ba89e5-f4a2-432f-9535-1d1524a4bb7a",
   "metadata": {},
   "outputs": [],
   "source": [
    "# Define the path to your Google Cloud Credentials\n",
    "gcloud_credentials = \"<Path to Google Cloud Credentials json>\""
   ]
  },
  {
   "cell_type": "code",
   "execution_count": null,
   "id": "04251c8c-fecf-43cc-b7d2-6681832c0660",
   "metadata": {},
   "outputs": [],
   "source": [
    "sheet_url = \"<Google Sheet link>\""
   ]
  },
  {
   "cell_type": "code",
   "execution_count": null,
   "id": "24bb2455-ee09-4085-b1cd-4ccc498c31a2",
   "metadata": {},
   "outputs": [],
   "source": [
    "read_private_sheets(gcloud_credentials, sheet_url, 0)"
   ]
  },
  {
   "cell_type": "markdown",
   "id": "c8f7712f-eb0f-4ac2-a560-6a1b04cb5afd",
   "metadata": {},
   "source": [
    "## Google Drive (Private files)\n",
    "To generate the credentials needed to access private files on Google Drive, please follow the steps described in [Pydrive2 documentation](https://docs.iterative.ai/PyDrive2/quickstart/)."
   ]
  },
  {
   "cell_type": "code",
   "execution_count": null,
   "id": "9a6d8ee8-0fd3-48a0-9964-d9e9fcc3eb8f",
   "metadata": {},
   "outputs": [],
   "source": [
    "from pydrive2.auth import GoogleAuth\n",
    "from gcloud_data_analysis_functions import read_private_file_from_gdrive, read_file_from_gcloud_storage"
   ]
  },
  {
   "cell_type": "code",
   "execution_count": null,
   "id": "a6d772d3-f1ae-4214-9294-dd9bd4e630a0",
   "metadata": {},
   "outputs": [],
   "source": [
    "gauth = GoogleAuth()\n",
    "gauth.LocalWebserverAuth()"
   ]
  },
  {
   "cell_type": "code",
   "execution_count": null,
   "id": "d9075f8e-a000-44d8-baf5-ecbcd0c692f0",
   "metadata": {},
   "outputs": [],
   "source": [
    "file_url_csv = \"<Google Drive csv link>\"\n",
    "file_url_json = \"<Google Drive json link>\"\n",
    "file_url_xlsx = \"<Google Drive xlsx link>\"\n",
    "file_url_parquet = \"<Google Drive parquet link>\""
   ]
  },
  {
   "cell_type": "code",
   "execution_count": null,
   "id": "e428212e-872d-4ee4-b3a0-f5ef66a59d50",
   "metadata": {},
   "outputs": [],
   "source": [
    "read_private_file_from_gdrive(file_url_json, \"json\", gauth)"
   ]
  },
  {
   "cell_type": "code",
   "execution_count": null,
   "id": "be1b84cb-c3bc-4cb5-bb3f-a56fa27ca372",
   "metadata": {},
   "outputs": [],
   "source": [
    "read_private_file_from_gdrive(file_url_csv, \"csv\", gauth)"
   ]
  },
  {
   "cell_type": "code",
   "execution_count": null,
   "id": "2f45fc65-9275-42c5-af38-b321640d0b63",
   "metadata": {},
   "outputs": [],
   "source": [
    "read_private_file_from_gdrive(file_url_xlsx, \"xlsx\", gauth)"
   ]
  },
  {
   "cell_type": "code",
   "execution_count": null,
   "id": "b1972654-986e-44e4-8efa-041589c756fc",
   "metadata": {},
   "outputs": [],
   "source": [
    "read_private_file_from_gdrive(file_url_parquet, \"parquet\", gauth)"
   ]
  },
  {
   "cell_type": "markdown",
   "id": "0574710e-1dd2-4861-88fd-c3a88ab5594c",
   "metadata": {
    "tags": []
   },
   "source": [
    "## Google Cloud Storage"
   ]
  },
  {
   "cell_type": "markdown",
   "id": "efbf9f02-01ed-4cb2-af23-38a3177185a8",
   "metadata": {},
   "source": [
    "To access files stored in Google Cloud Storage you need to [generate a json file with your credentials](https://developers.google.com/identity/protocols/oauth2?hl=en). "
   ]
  },
  {
   "cell_type": "code",
   "execution_count": null,
   "id": "79699681-c694-4954-8d8b-d0e5661c303b",
   "metadata": {},
   "outputs": [],
   "source": [
    "print(read_file_from_gcloud_storage.__doc__)"
   ]
  },
  {
   "cell_type": "code",
   "execution_count": null,
   "id": "7bed93f5-f4a7-4b14-b18f-50f7ec0fc729",
   "metadata": {},
   "outputs": [],
   "source": [
    "read_file_from_gcloud_storage(\n",
    "    \"<File name>\",\n",
    "    \"<File format>\",\n",
    "    \"<Bucket name>\",\n",
    "    \"<Project Name>\",\n",
    "    \"<Path to GCloud Credentials>\",\n",
    ")"
   ]
  }
 ],
 "metadata": {
  "kernelspec": {
   "display_name": "analytics",
   "language": "python",
   "name": "analytics"
  },
  "language_info": {
   "codemirror_mode": {
    "name": "ipython",
    "version": 3
   },
   "file_extension": ".py",
   "mimetype": "text/x-python",
   "name": "python",
   "nbconvert_exporter": "python",
   "pygments_lexer": "ipython3",
   "version": "3.8.11"
  },
  "toc-autonumbering": true
 },
 "nbformat": 4,
 "nbformat_minor": 5
}
